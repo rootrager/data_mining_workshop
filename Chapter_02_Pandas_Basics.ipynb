{
  "nbformat": 4,
  "nbformat_minor": 0,
  "metadata": {
    "colab": {
      "provenance": [],
      "authorship_tag": "ABX9TyNEss6c2uQHJgR1FRIW4wj7",
      "include_colab_link": true
    },
    "kernelspec": {
      "name": "python3",
      "display_name": "Python 3"
    },
    "language_info": {
      "name": "python"
    }
  },
  "cells": [
    {
      "cell_type": "markdown",
      "metadata": {
        "id": "view-in-github",
        "colab_type": "text"
      },
      "source": [
        "<a href=\"https://colab.research.google.com/github/rootrager/data_mining_workshop/blob/main/Chapter_02_Pandas_Basics.ipynb\" target=\"_parent\"><img src=\"https://colab.research.google.com/assets/colab-badge.svg\" alt=\"Open In Colab\"/></a>"
      ]
    },
    {
      "cell_type": "markdown",
      "source": [
        "# کارگاه فشرده: داده‌کاوی برای همه\n",
        "## فصل ۲: جعبه‌ابزار کارآگاه (آشنایی با Pandas و Matplotlib)"
      ],
      "metadata": {
        "id": "QLw7B-Is1dfK"
      }
    },
    {
      "cell_type": "code",
      "source": [
        "# قدم اول: ایمپورت کردن کتابخانه‌ها (ابزارهای اصلی ما)\n",
        "import pandas as pd\n",
        "import numpy as np\n",
        "import matplotlib.pyplot as plt"
      ],
      "metadata": {
        "id": "35U1Yc-x1fJE"
      },
      "execution_count": null,
      "outputs": []
    },
    {
      "cell_type": "markdown",
      "source": [
        "---\n",
        "### جلسه ۳: اولین ابزار: Series، دفترچه یادداشت کارآگاه\n",
        "در این بخش، با `Series` که ساده‌ترین ساختار داده پانداس است، آشنا می‌شویم. فکر کنید این یک \"لیست هوشمند\" یا یک ستون از جدول اکسل است."
      ],
      "metadata": {
        "id": "Kc2fy-Aa1leS"
      }
    },
    {
      "cell_type": "code",
      "source": [
        "# --- تمرین کوئیز: کار با Series ---\n",
        "\n",
        "print(\"===== Mamooriyat 1: Sakhtan-e Series-e Paye =====\")\n",
        "# ۱. دیتا وارد کنید (یک لیست ساده پایتون)\n",
        "student_scores = [17, 20, 15.5, 18, 19]\n",
        "# ۲. Series ازش درست کنید\n",
        "scores_series = pd.Series(student_scores)\n",
        "print(\"In avalin Series-e mast:\")\n",
        "print(scores_series)\n",
        "\n",
        "print(\"\\n===== Mamooriyat 2: Index-gozari =====\")\n",
        "# ۳. ایندکس گذاری کنید\n",
        "print(\"Nomre-ye avalin daneshjoo (Index 0):\", scores_series[0])\n",
        "print(\"Nomre-ye sevomin daneshjoo (Index 2):\", scores_series[2])\n",
        "print(\"Nomarat-e daneshjooy-e dovom ta chaharom:\", scores_series[1:4])\n",
        "\n",
        "print(\"\\n===== Tamrin-e Herfeyi: Series ba Index-e Sefareshi =====\")\n",
        "# می‌توانیم به جای ایندکس‌های عددی، از برچسب‌های معنادار استفاده کنیم\n",
        "students_names = [\"Ali\", \"Sara\", \"Reza\", \"Maryam\", \"Nima\"]\n",
        "scores_series_named = pd.Series(student_scores, index=students_names)\n",
        "print(\"Series-e jadid ba nam-e daneshjooyan be onvan-e index:\")\n",
        "print(scores_series_named)\n",
        "print(\"\\nNomre-ye Reza:\", scores_series_named['Reza'])"
      ],
      "metadata": {
        "id": "ZSObbPAE1qy6"
      },
      "execution_count": null,
      "outputs": []
    },
    {
      "cell_type": "markdown",
      "source": [
        "---\n",
        "### جلسه ۴: ابزار اصلی: DataFrame، میز کار کارآگاه\n",
        "حالا به سراغ `DataFrame` می‌رویم. این یک جدول کامل با سطر و ستون است و قدرتمندترین ابزار ماست. در این بخش، سوال امتحانی استاد (۱۰ دانشجو، ۸ درس) را حل می‌کنیم."
      ],
      "metadata": {
        "id": "r4hnrP_G1tPy"
      }
    },
    {
      "cell_type": "code",
      "source": [
        "# --- حل سوال امتحانی: ساختن DataFrame ---\n",
        "\n",
        "print(\"\\n\\n===== Mamooriyat 3: Sakhtan-e DataFrame =====\")\n",
        "\n",
        "# تعریف نام ۱۰ دانشجو و ۸ درس\n",
        "student_names_df = [f'Daneshjoo_{i+1}' for i in range(10)]\n",
        "subject_names_df = [f'Dars_{i+1}' for i in range(8)]\n",
        "\n",
        "# ساختن ماتریس نمرات تصادفی\n",
        "grades_matrix = np.random.randint(10, 21, size=(10, 8))\n",
        "\n",
        "# ساختن DataFrame کامل\n",
        "grades_df = pd.DataFrame(grades_matrix, index=student_names_df, columns=subject_names_df)\n",
        "\n",
        "print(\"Jadval-e Kamel-e Nomarat:\")\n",
        "print(grades_df)\n",
        "\n",
        "# --- تحلیل اولیه DataFrame ---\n",
        "print(\"\\n===== Analiz-e Avaliye-ye DataFrame =====\")\n",
        "\n",
        "# دسترسی به نمره یک دانشجوی خاص در یک درس خاص\n",
        "score_student5_subject3 = grades_df.loc['Daneshjoo_5', 'Dars_3']\n",
        "print(f\"Nomre-ye Daneshjoo_5 dar Dars_3: {score_student5_subject3}\")\n",
        "\n",
        "# دسترسی به تمام نمرات یک دانشجوی خاص (یک ردیف کامل)\n",
        "student_8_scores = grades_df.loc['Daneshjoo_8']\n",
        "print(\"\\nTamam-e Nomarat-e Daneshjoo_8:\")\n",
        "print(student_8_scores)"
      ],
      "metadata": {
        "id": "cPOeqH9e1xJt"
      },
      "execution_count": null,
      "outputs": []
    },
    {
      "cell_type": "code",
      "source": [],
      "metadata": {
        "id": "32r28h2i15Y6"
      },
      "execution_count": null,
      "outputs": []
    },
    {
      "cell_type": "markdown",
      "source": [
        "---\n",
        "### جلسه ۵: داستان‌سرایی با داده‌ها (مصورسازی با Matplotlib)\n",
        "در این بخش، یاد می‌گیریم چطور از اعداد خشک، داستان‌های بصری جذاب بسازیم. ما از `DataFrame` نمراتی که ساختیم برای رسم چند نمودار استفاده می‌کنیم."
      ],
      "metadata": {
        "id": "Rp5M14fi1yHD"
      }
    },
    {
      "cell_type": "code",
      "source": [
        "# --- نمودار شماره ۱: توزیع نمرات (Histogram) ---\n",
        "print(\"\\n\\n===== Mamooriyat 4.1: Nemoodar-e Histogram =====\")\n",
        "plt.figure(figsize=(10, 6))\n",
        "grades_df['Dars_3'].plot(kind='hist', bins=5, color='purple', edgecolor='black')\n",
        "plt.title('Tozi-e Nomarat dar Dars-e 3')\n",
        "plt.xlabel('Nomarat')\n",
        "plt.ylabel('Tedad-e Daneshjooyan (Faravani)')\n",
        "plt.grid(axis='y', linestyle='--', alpha=0.7)\n",
        "plt.show()"
      ],
      "metadata": {
        "id": "XDEevCrR10mJ"
      },
      "execution_count": null,
      "outputs": []
    },
    {
      "cell_type": "code",
      "source": [
        "# --- نمودار شماره ۲: مقایسه دروس (Bar Chart) ---\n",
        "print(\"\\n\\n===== Mamooriyat 4.2: Nemoodar-e Mile-i (Bar) =====\")\n",
        "mean_scores = grades_df.mean()\n",
        "lessons_to_compare = ['Dars_1', 'Dars_2']\n",
        "mean_to_compare = mean_scores[lessons_to_compare]\n",
        "\n",
        "plt.figure(figsize=(8, 5))\n",
        "mean_to_compare.plot(kind='bar', color=['skyblue', 'salmon'])\n",
        "plt.title('Moghayese-ye Miyangin-e Nomarat-e Dars-e 1 va 2')\n",
        "plt.xlabel('Dars')\n",
        "plt.ylabel('Miyangin-e Nomre')\n",
        "plt.xticks(rotation=0)\n",
        "plt.show()"
      ],
      "metadata": {
        "id": "KNk2Fmsc17DL"
      },
      "execution_count": null,
      "outputs": []
    },
    {
      "cell_type": "code",
      "source": [
        "# --- نمودار شماره ۳: بررسی همبستگی (Scatter Plot) ---\n",
        "print(\"\\n\\n===== Mamooriyat 4.3: Nemoodar-e Parakandegi (Scatter) =====\")\n",
        "plt.figure(figsize=(8, 8))\n",
        "plt.scatter(grades_df['Dars_5'], grades_df['Dars_6'], color='green', alpha=0.7)\n",
        "plt.title('Nemoodar-e Parakandegi-e Nomarat-e Dars-e 5 vs 6')\n",
        "plt.xlabel('Nomre-ye Dars-e 5')\n",
        "plt.ylabel('Nomre-ye Dars-e 6')\n",
        "plt.grid(True, linestyle='--', alpha=0.5)\n",
        "plt.show()"
      ],
      "metadata": {
        "id": "fj88UQVG18kP"
      },
      "execution_count": null,
      "outputs": []
    }
  ]
}