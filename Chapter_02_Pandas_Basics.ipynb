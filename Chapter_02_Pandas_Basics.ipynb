{
  "nbformat": 4,
  "nbformat_minor": 0,
  "metadata": {
    "colab": {
      "provenance": [],
      "authorship_tag": "ABX9TyPcdFUAKcbYQBFFctLPNgmh",
      "include_colab_link": true
    },
    "kernelspec": {
      "name": "python3",
      "display_name": "Python 3"
    },
    "language_info": {
      "name": "python"
    }
  },
  "cells": [
    {
      "cell_type": "markdown",
      "metadata": {
        "id": "view-in-github",
        "colab_type": "text"
      },
      "source": [
        "<a href=\"https://colab.research.google.com/github/rootrager/data_mining_workshop/blob/main/Chapter_02_Pandas_Basics.ipynb\" target=\"_parent\"><img src=\"https://colab.research.google.com/assets/colab-badge.svg\" alt=\"Open In Colab\"/></a>"
      ]
    },
    {
      "cell_type": "code",
      "source": [
        "# قدم اول: ایمپورت کردن کتابخانه پانداس (ابزار اصلی ما)\n",
        "import pandas as pd\n",
        "\n",
        "# --- تمرین کوئیز: کار با Series ---\n",
        "\n",
        "print(\"===== ماموریت ۱: ساختن Series پایه =====\")\n",
        "\n",
        "# ۱. دیتا وارد کنید (یک لیست ساده پایتون)\n",
        "student_scores = [17, 20, 15.5, 18, 19]\n",
        "\n",
        "# ۲. Series ازش درست کنید\n",
        "scores_series = pd.Series(student_scores)\n",
        "\n",
        "# نمایش نتیجه\n",
        "print(\"این اولین Series ماست:\")\n",
        "print(scores_series)\n",
        "\n",
        "print(\"\\n===== ماموریت ۲: ایندکس‌گذاری =====\")\n",
        "# ۳. ایندکس گذاری کنید (دسترسی به داده‌ها)\n",
        "print(\"نمره اولین دانشجو (ایندکس ۰):\", scores_series[0])\n",
        "print(\"نمره سومین دانشجو (ایندکس ۲):\", scores_series[2])\n",
        "print(\"نمرات دانشجوی دوم تا چهارم:\", scores_series[1:4])\n",
        "\n",
        "\n",
        "print(\"\\n===== تمرین حرفه‌ای: Series با ایندکس سفارشی =====\")\n",
        "# می‌توانیم به جای ایندکس‌های عددی ۰, ۱, ۲,... از برچسب‌های معنادار استفاده کنیم\n",
        "students_names = [\"علی\", \"سارا\", \"رضا\", \"مریم\", \"نیما\"]\n",
        "scores_series_named = pd.Series(student_scores, index=students_names)\n",
        "\n",
        "print(\"Series جدید با نام دانشجویان به عنوان ایندکس:\")\n",
        "print(scores_series_named)\n",
        "print(\"\\nنمره رضا:\", scores_series_named['رضا'])"
      ],
      "metadata": {
        "colab": {
          "base_uri": "https://localhost:8080/"
        },
        "id": "ftCU_SDry5wR",
        "outputId": "ca29c0b3-a2ca-4d85-fec2-3c68b5883173"
      },
      "execution_count": 2,
      "outputs": [
        {
          "output_type": "stream",
          "name": "stdout",
          "text": [
            "===== ماموریت ۱: ساختن Series پایه =====\n",
            "این اولین Series ماست:\n",
            "0    17.0\n",
            "1    20.0\n",
            "2    15.5\n",
            "3    18.0\n",
            "4    19.0\n",
            "dtype: float64\n",
            "\n",
            "===== ماموریت ۲: ایندکس‌گذاری =====\n",
            "نمره اولین دانشجو (ایندکس ۰): 17.0\n",
            "نمره سومین دانشجو (ایندکس ۲): 15.5\n",
            "نمرات دانشجوی دوم تا چهارم: 1    20.0\n",
            "2    15.5\n",
            "3    18.0\n",
            "dtype: float64\n",
            "\n",
            "===== تمرین حرفه‌ای: Series با ایندکس سفارشی =====\n",
            "Series جدید با نام دانشجویان به عنوان ایندکس:\n",
            "علی     17.0\n",
            "سارا    20.0\n",
            "رضا     15.5\n",
            "مریم    18.0\n",
            "نیما    19.0\n",
            "dtype: float64\n",
            "\n",
            "نمره رضا: 15.5\n"
          ]
        }
      ]
    }
  ]
}