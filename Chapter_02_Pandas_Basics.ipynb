# قدم اول: ایمپورت کردن کتابخانه پانداس (ابزار اصلی ما)
import pandas as pd

# --- تمرین کوئیز: کار با Series ---

print("===== ماموریت ۱: ساختن Series پایه =====")

# ۱. دیتا وارد کنید (یک لیست ساده پایتون)
student_scores = [17, 20, 15.5, 18, 19]

# ۲. Series ازش درست کنید
scores_series = pd.Series(student_scores)

# نمایش نتیجه
print("این اولین Series ماست:")
print(scores_series)

print("\n===== ماموریت ۲: ایندکس‌گذاری =====")
# ۳. ایندکس گذاری کنید (دسترسی به داده‌ها)
print("نمره اولین دانشجو (ایندکس ۰):", scores_series[0])
print("نمره سومین دانشجو (ایندکس ۲):", scores_series[2])
print("نمرات دانشجوی دوم تا چهارم:", scores_series[1:4])


print("\n===== تمرین حرفه‌ای: Series با ایندکس سفارشی =====")
# می‌توانیم به جای ایندکس‌های عددی ۰, ۱, ۲,... از برچسب‌های معنادار استفاده کنیم
students_names = ["علی", "سارا", "رضا", "مریم", "نیما"]
scores_series_named = pd.Series(student_scores, index=students_names)

print("Series جدید با نام دانشجویان به عنوان ایندکس:")
print(scores_series_named)
print("\nنمره رضا:", scores_series_named['رضا'])
