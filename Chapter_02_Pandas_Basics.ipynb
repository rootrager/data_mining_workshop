{
  "nbformat": 4,
  "nbformat_minor": 0,
  "metadata": {
    "colab": {
      "provenance": [],
      "authorship_tag": "ABX9TyOVUnHD90Vm+Dzz2EofDKEK",
      "include_colab_link": true
    },
    "kernelspec": {
      "name": "python3",
      "display_name": "Python 3"
    },
    "language_info": {
      "name": "python"
    }
  },
  "cells": [
    {
      "cell_type": "markdown",
      "metadata": {
        "id": "view-in-github",
        "colab_type": "text"
      },
      "source": [
        "<a href=\"https://colab.research.google.com/github/rootrager/data_mining_workshop/blob/main/Chapter_02_Pandas_Basics.ipynb\" target=\"_parent\"><img src=\"https://colab.research.google.com/assets/colab-badge.svg\" alt=\"Open In Colab\"/></a>"
      ]
    },
    {
      "cell_type": "code",
      "source": [
        "# قدم اول: ایمپورت کردن کتابخانه پانداس (ابزار اصلی ما)\n",
        "import pandas as pd\n",
        "\n",
        "# --- تمرین کوئیز: کار با Series ---\n",
        "\n",
        "print(\"===== ماموریت ۱: ساختن Series پایه =====\")\n",
        "\n",
        "# ۱. دیتا وارد کنید (یک لیست ساده پایتون)\n",
        "student_scores = [17, 20, 15.5, 18, 19]\n",
        "\n",
        "# ۲. Series ازش درست کنید\n",
        "scores_series = pd.Series(student_scores)\n",
        "\n",
        "# نمایش نتیجه\n",
        "print(\"این اولین Series ماست:\")\n",
        "print(scores_series)\n",
        "\n",
        "print(\"\\n===== ماموریت ۲: ایندکس‌گذاری =====\")\n",
        "# ۳. ایندکس گذاری کنید (دسترسی به داده‌ها)\n",
        "print(\"نمره اولین دانشجو (ایندکس ۰):\", scores_series[0])\n",
        "print(\"نمره سومین دانشجو (ایندکس ۲):\", scores_series[2])\n",
        "print(\"نمرات دانشجوی دوم تا چهارم:\", scores_series[1:4])\n",
        "\n",
        "\n",
        "print(\"\\n===== تمرین حرفه‌ای: Series با ایندکس سفارشی =====\")\n",
        "# می‌توانیم به جای ایندکس‌های عددی ۰, ۱, ۲,... از برچسب‌های معنادار استفاده کنیم\n",
        "students_names = [\"علی\", \"سارا\", \"رضا\", \"مریم\", \"نیما\"]\n",
        "scores_series_named = pd.Series(student_scores, index=students_names)\n",
        "\n",
        "print(\"Series جدید با نام دانشجویان به عنوان ایندکس:\")\n",
        "print(scores_series_named)\n",
        "print(\"\\nنمره رضا:\", scores_series_named['رضا'])"
      ],
      "metadata": {
        "colab": {
          "base_uri": "https://localhost:8080/"
        },
        "id": "ftCU_SDry5wR",
        "outputId": "ca29c0b3-a2ca-4d85-fec2-3c68b5883173"
      },
      "execution_count": 2,
      "outputs": [
        {
          "output_type": "stream",
          "name": "stdout",
          "text": [
            "===== ماموریت ۱: ساختن Series پایه =====\n",
            "این اولین Series ماست:\n",
            "0    17.0\n",
            "1    20.0\n",
            "2    15.5\n",
            "3    18.0\n",
            "4    19.0\n",
            "dtype: float64\n",
            "\n",
            "===== ماموریت ۲: ایندکس‌گذاری =====\n",
            "نمره اولین دانشجو (ایندکس ۰): 17.0\n",
            "نمره سومین دانشجو (ایندکس ۲): 15.5\n",
            "نمرات دانشجوی دوم تا چهارم: 1    20.0\n",
            "2    15.5\n",
            "3    18.0\n",
            "dtype: float64\n",
            "\n",
            "===== تمرین حرفه‌ای: Series با ایندکس سفارشی =====\n",
            "Series جدید با نام دانشجویان به عنوان ایندکس:\n",
            "علی     17.0\n",
            "سارا    20.0\n",
            "رضا     15.5\n",
            "مریم    18.0\n",
            "نیما    19.0\n",
            "dtype: float64\n",
            "\n",
            "نمره رضا: 15.5\n"
          ]
        }
      ]
    },
    {
      "cell_type": "markdown",
      "source": [
        "### جلسه ۴: ابزار اصلی: DataFrame، میز کار کارآگاه"
      ],
      "metadata": {
        "id": "_ZTVxue4_FMT"
      }
    },
    {
      "cell_type": "code",
      "source": [
        "# ادامه وارد کردن کتابخانه‌ها\n",
        "import numpy as np # ما برای تولید داده‌های تصادفی به numpy نیاز داریم\n",
        "\n",
        "print(\"\\n\\n===== ماموریت ۳: ساختن DataFrame (حل سوال امتحانی) =====\")\n",
        "\n",
        "# تعریف نام ۱۰ دانشجو و ۸ درس\n",
        "student_names = [f'دانشجوی {i+1}' for i in range(10)]\n",
        "subject_names = [f'درس {i+1}' for i in range(8)]\n",
        "\n",
        "# ساختن یک ماتریس ۱۰ در ۸ از نمرات تصادفی (اعداد صحیح بین ۱۰ تا ۲۰)\n",
        "# این داده‌های خام ما هستند\n",
        "grades_matrix = np.random.randint(10, 21, size=(10, 8))\n",
        "\n",
        "# حالا از این ماتریس داده، یک DataFrame کامل می‌سازیم\n",
        "# ما نمرات را به عنوان داده اصلی (data)، نام دانشجویان را به عنوان ایندکس (index) یا برچسب سطرها،\n",
        "# و نام دروس را به عنوان ستون‌ها (columns) به پانداس می‌دهیم.\n",
        "grades_df = pd.DataFrame(grades_matrix, index=student_names, columns=subject_names)\n",
        "\n",
        "print(\"جدول کامل نمرات (میز کار کارآگاه):\")\n",
        "print(grades_df)\n",
        "\n",
        "print(\"\\n===== تحلیل اولیه DataFrame =====\")\n",
        "\n",
        "# دسترسی به نمره یک دانشجوی خاص در یک درس خاص\n",
        "score_student5_subject3 = grades_df.loc['دانشجوی 5', 'درس 3']\n",
        "print(f\"نمره دانشجوی 5 در درس 3: {score_student5_subject3}\")\n",
        "\n",
        "# دسترسی به تمام نمرات یک دانشجوی خاص (یک ردیف کامل)\n",
        "student_8_scores = grades_df.loc['دانشجوی 8']\n",
        "print(\"\\nتمام نمرات دانشجوی 8:\")\n",
        "print(student_8_scores)\n",
        "\n",
        "# دسترسی به تمام نمرات در یک درس خاص (یک ستون کامل)\n",
        "math_scores = grades_df['درس 1'] # فرض کنیم درس ۱ ریاضی است\n",
        "print(\"\\nتمام نمرات درس 1:\")\n",
        "print(math_scores)"
      ],
      "metadata": {
        "id": "zk9d2CS__JRh",
        "outputId": "03b9380f-0d16-4f5c-bc38-541c756ce0e5",
        "colab": {
          "base_uri": "https://localhost:8080/"
        }
      },
      "execution_count": 5,
      "outputs": [
        {
          "output_type": "stream",
          "name": "stdout",
          "text": [
            "\n",
            "\n",
            "===== ماموریت ۳: ساختن DataFrame (حل سوال امتحانی) =====\n",
            "جدول کامل نمرات (میز کار کارآگاه):\n",
            "            درس 1  درس 2  درس 3  درس 4  درس 5  درس 6  درس 7  درس 8\n",
            "دانشجوی 1      18     13     11     18     13     11     10     14\n",
            "دانشجوی 2      18     20     15     18     14     18     20     10\n",
            "دانشجوی 3      20     16     11     13     11     11     15     13\n",
            "دانشجوی 4      12     19     13     16     14     16     15     19\n",
            "دانشجوی 5      15     19     15     16     12     16     20     16\n",
            "دانشجوی 6      20     19     11     12     16     16     10     11\n",
            "دانشجوی 7      17     15     11     16     18     13     19     12\n",
            "دانشجوی 8      11     20     10     17     20     14     16     19\n",
            "دانشجوی 9      18     11     20     11     20     17     15     15\n",
            "دانشجوی 10     19     16     16     19     13     10     15     10\n",
            "\n",
            "===== تحلیل اولیه DataFrame =====\n",
            "نمره دانشجوی 5 در درس 3: 15\n",
            "\n",
            "تمام نمرات دانشجوی 8:\n",
            "درس 1    11\n",
            "درس 2    20\n",
            "درس 3    10\n",
            "درس 4    17\n",
            "درس 5    20\n",
            "درس 6    14\n",
            "درس 7    16\n",
            "درس 8    19\n",
            "Name: دانشجوی 8, dtype: int64\n",
            "\n",
            "تمام نمرات درس 1:\n",
            "دانشجوی 1     18\n",
            "دانشجوی 2     18\n",
            "دانشجوی 3     20\n",
            "دانشجوی 4     12\n",
            "دانشجوی 5     15\n",
            "دانشجوی 6     20\n",
            "دانشجوی 7     17\n",
            "دانشجوی 8     11\n",
            "دانشجوی 9     18\n",
            "دانشجوی 10    19\n",
            "Name: درس 1, dtype: int64\n"
          ]
        }
      ]
    }
  ]
}